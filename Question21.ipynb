{
 "cells": [
  {
   "cell_type": "markdown",
   "id": "42607ad3-4bee-431f-b475-f19d3abc19e7",
   "metadata": {},
   "source": [
    "# Question 21"
   ]
  },
  {
   "cell_type": "code",
   "execution_count": 43,
   "id": "4c09f6b9-f137-470b-ae42-4ee65055f801",
   "metadata": {},
   "outputs": [
    {
     "name": "stdout",
     "output_type": "stream",
     "text": [
      "Length: 5.0\n",
      "Slope: 0.75\n"
     ]
    }
   ],
   "source": [
    "import math\n",
    "\n",
    "class Point:\n",
    "\n",
    "    def __init__(self, x=0, y=0):\n",
    "        #represents an endpoint on a line segment\n",
    "        self.x = x\n",
    "        self.y = y\n",
    "\n",
    "\n",
    "class Segment: #represents a pair of endpoints of a line segment\n",
    "    def __init__(self, p1, p2):\n",
    "        self.p1 = p1\n",
    "        self.p2 = p2\n",
    "    \n",
    "    #Now the lenght of the line segment will be the distance between these two endpoints\n",
    "    def length(self): \n",
    "        return math.sqrt((self.p2.x - self.p1.x)**2 + (self.p2.y - self.p1.y)**2)\n",
    "    \n",
    "    def slope(self):\n",
    "        if self.p2.x - self.p1.x == 0:\n",
    "            return None  #returns none if the slope is unbounded\n",
    "        return (self.p2.y - self.p1.y) / (self.p2.x - self.p1.x) \n",
    "\n",
    "#Tests\n",
    "p1 = Point(4, 3)\n",
    "p2 = Point()\n",
    "\n",
    "s = Segment(p1, p2)\n",
    "\n",
    "print(\"Length:\", s.length())  \n",
    "print(\"Slope:\", s.slope())    \n"
   ]
  },
  {
   "cell_type": "code",
   "execution_count": null,
   "id": "c40e23da-554f-4356-984a-d2e1ca862998",
   "metadata": {},
   "outputs": [],
   "source": []
  },
  {
   "cell_type": "code",
   "execution_count": null,
   "id": "e8192b10-7ea8-41f5-a4df-813fb1cb239c",
   "metadata": {},
   "outputs": [],
   "source": []
  }
 ],
 "metadata": {
  "kernelspec": {
   "display_name": "Python 3 (ipykernel)",
   "language": "python",
   "name": "python3"
  },
  "language_info": {
   "codemirror_mode": {
    "name": "ipython",
    "version": 3
   },
   "file_extension": ".py",
   "mimetype": "text/x-python",
   "name": "python",
   "nbconvert_exporter": "python",
   "pygments_lexer": "ipython3",
   "version": "3.11.7"
  }
 },
 "nbformat": 4,
 "nbformat_minor": 5
}
